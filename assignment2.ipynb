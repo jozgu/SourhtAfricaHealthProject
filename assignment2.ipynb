{
 "cells": [
  {
   "cell_type": "code",
   "execution_count": 1,
   "metadata": {},
   "outputs": [],
   "source": [
    "import pandas as pd\n",
    "import torch\n",
    "import torch.nn as nn\n",
    "import matplotlib.pyplot as plt\n",
    "from scipy.stats import zscore\n",
    "from sklearn.model_selection import KFold\n",
    "from sklearn.linear_model import LogisticRegression \n",
    "from sklearn.model_selection import train_test_split\n",
    "import numpy as np\n",
    "import seaborn as sns \n",
    "from sklearn.metrics import confusion_matrix, ConfusionMatrixDisplay, mean_squared_error"
   ]
  },
  {
   "cell_type": "markdown",
   "metadata": {},
   "source": [
    "## Read in data\n",
    "Seperating the attributes from the result"
   ]
  },
  {
   "cell_type": "code",
   "execution_count": 3,
   "metadata": {},
   "outputs": [
    {
     "data": {
      "text/html": [
       "<div>\n",
       "<style scoped>\n",
       "    .dataframe tbody tr th:only-of-type {\n",
       "        vertical-align: middle;\n",
       "    }\n",
       "\n",
       "    .dataframe tbody tr th {\n",
       "        vertical-align: top;\n",
       "    }\n",
       "\n",
       "    .dataframe thead th {\n",
       "        text-align: right;\n",
       "    }\n",
       "</style>\n",
       "<table border=\"1\" class=\"dataframe\">\n",
       "  <thead>\n",
       "    <tr style=\"text-align: right;\">\n",
       "      <th></th>\n",
       "      <th>sbp</th>\n",
       "      <th>tobacco</th>\n",
       "      <th>ldl</th>\n",
       "      <th>adiposity</th>\n",
       "      <th>typea</th>\n",
       "      <th>obesity</th>\n",
       "      <th>alcohol</th>\n",
       "      <th>age</th>\n",
       "      <th>famhist</th>\n",
       "    </tr>\n",
       "  </thead>\n",
       "  <tbody>\n",
       "    <tr>\n",
       "      <th>0</th>\n",
       "      <td>1.057417</td>\n",
       "      <td>1.821099</td>\n",
       "      <td>0.477894</td>\n",
       "      <td>-0.295183</td>\n",
       "      <td>-0.418017</td>\n",
       "      <td>-0.176594</td>\n",
       "      <td>3.274189</td>\n",
       "      <td>0.628654</td>\n",
       "      <td>1.184570</td>\n",
       "    </tr>\n",
       "    <tr>\n",
       "      <th>1</th>\n",
       "      <td>0.276789</td>\n",
       "      <td>-0.789382</td>\n",
       "      <td>-0.159507</td>\n",
       "      <td>0.411694</td>\n",
       "      <td>0.193134</td>\n",
       "      <td>0.670646</td>\n",
       "      <td>-0.612081</td>\n",
       "      <td>1.381617</td>\n",
       "      <td>-0.842361</td>\n",
       "    </tr>\n",
       "    <tr>\n",
       "      <th>2</th>\n",
       "      <td>-0.991731</td>\n",
       "      <td>-0.774141</td>\n",
       "      <td>-0.608585</td>\n",
       "      <td>0.883374</td>\n",
       "      <td>-0.112441</td>\n",
       "      <td>0.734723</td>\n",
       "      <td>-0.540597</td>\n",
       "      <td>0.217947</td>\n",
       "      <td>1.184570</td>\n",
       "    </tr>\n",
       "    <tr>\n",
       "      <th>3</th>\n",
       "      <td>1.545310</td>\n",
       "      <td>0.841352</td>\n",
       "      <td>0.806252</td>\n",
       "      <td>1.622382</td>\n",
       "      <td>-0.214300</td>\n",
       "      <td>1.411091</td>\n",
       "      <td>0.294742</td>\n",
       "      <td>1.039361</td>\n",
       "      <td>1.184570</td>\n",
       "    </tr>\n",
       "    <tr>\n",
       "      <th>4</th>\n",
       "      <td>-0.211103</td>\n",
       "      <td>2.169453</td>\n",
       "      <td>-0.598928</td>\n",
       "      <td>0.305020</td>\n",
       "      <td>0.702427</td>\n",
       "      <td>-0.012842</td>\n",
       "      <td>1.645991</td>\n",
       "      <td>0.423301</td>\n",
       "      <td>1.184570</td>\n",
       "    </tr>\n",
       "    <tr>\n",
       "      <th>...</th>\n",
       "      <td>...</td>\n",
       "      <td>...</td>\n",
       "      <td>...</td>\n",
       "      <td>...</td>\n",
       "      <td>...</td>\n",
       "      <td>...</td>\n",
       "      <td>...</td>\n",
       "      <td>...</td>\n",
       "      <td>...</td>\n",
       "    </tr>\n",
       "    <tr>\n",
       "      <th>457</th>\n",
       "      <td>3.692037</td>\n",
       "      <td>-0.704470</td>\n",
       "      <td>0.598614</td>\n",
       "      <td>0.811401</td>\n",
       "      <td>1.109862</td>\n",
       "      <td>0.570971</td>\n",
       "      <td>-0.696228</td>\n",
       "      <td>1.039361</td>\n",
       "      <td>-0.842361</td>\n",
       "    </tr>\n",
       "    <tr>\n",
       "      <th>458</th>\n",
       "      <td>2.130781</td>\n",
       "      <td>0.122871</td>\n",
       "      <td>-0.159507</td>\n",
       "      <td>0.860240</td>\n",
       "      <td>-0.112441</td>\n",
       "      <td>0.608942</td>\n",
       "      <td>0.068445</td>\n",
       "      <td>0.628654</td>\n",
       "      <td>-0.842361</td>\n",
       "    </tr>\n",
       "    <tr>\n",
       "      <th>459</th>\n",
       "      <td>-1.479624</td>\n",
       "      <td>-0.138395</td>\n",
       "      <td>-1.521228</td>\n",
       "      <td>-1.307946</td>\n",
       "      <td>-1.334744</td>\n",
       "      <td>-1.413043</td>\n",
       "      <td>0.391960</td>\n",
       "      <td>0.834008</td>\n",
       "      <td>-0.842361</td>\n",
       "    </tr>\n",
       "    <tr>\n",
       "      <th>460</th>\n",
       "      <td>-0.991731</td>\n",
       "      <td>0.384137</td>\n",
       "      <td>3.317227</td>\n",
       "      <td>0.691875</td>\n",
       "      <td>1.109862</td>\n",
       "      <td>0.309916</td>\n",
       "      <td>0.282897</td>\n",
       "      <td>-0.192760</td>\n",
       "      <td>-0.842361</td>\n",
       "    </tr>\n",
       "    <tr>\n",
       "      <th>461</th>\n",
       "      <td>-0.308682</td>\n",
       "      <td>-0.791559</td>\n",
       "      <td>0.038474</td>\n",
       "      <td>1.028605</td>\n",
       "      <td>0.906144</td>\n",
       "      <td>-2.692210</td>\n",
       "      <td>-0.696228</td>\n",
       "      <td>0.217947</td>\n",
       "      <td>1.184570</td>\n",
       "    </tr>\n",
       "  </tbody>\n",
       "</table>\n",
       "<p>462 rows × 9 columns</p>\n",
       "</div>"
      ],
      "text/plain": [
       "          sbp   tobacco       ldl  adiposity     typea   obesity   alcohol  \\\n",
       "0    1.057417  1.821099  0.477894  -0.295183 -0.418017 -0.176594  3.274189   \n",
       "1    0.276789 -0.789382 -0.159507   0.411694  0.193134  0.670646 -0.612081   \n",
       "2   -0.991731 -0.774141 -0.608585   0.883374 -0.112441  0.734723 -0.540597   \n",
       "3    1.545310  0.841352  0.806252   1.622382 -0.214300  1.411091  0.294742   \n",
       "4   -0.211103  2.169453 -0.598928   0.305020  0.702427 -0.012842  1.645991   \n",
       "..        ...       ...       ...        ...       ...       ...       ...   \n",
       "457  3.692037 -0.704470  0.598614   0.811401  1.109862  0.570971 -0.696228   \n",
       "458  2.130781  0.122871 -0.159507   0.860240 -0.112441  0.608942  0.068445   \n",
       "459 -1.479624 -0.138395 -1.521228  -1.307946 -1.334744 -1.413043  0.391960   \n",
       "460 -0.991731  0.384137  3.317227   0.691875  1.109862  0.309916  0.282897   \n",
       "461 -0.308682 -0.791559  0.038474   1.028605  0.906144 -2.692210 -0.696228   \n",
       "\n",
       "          age   famhist  \n",
       "0    0.628654  1.184570  \n",
       "1    1.381617 -0.842361  \n",
       "2    0.217947  1.184570  \n",
       "3    1.039361  1.184570  \n",
       "4    0.423301  1.184570  \n",
       "..        ...       ...  \n",
       "457  1.039361 -0.842361  \n",
       "458  0.628654 -0.842361  \n",
       "459  0.834008 -0.842361  \n",
       "460 -0.192760 -0.842361  \n",
       "461  0.217947  1.184570  \n",
       "\n",
       "[462 rows x 9 columns]"
      ]
     },
     "execution_count": 3,
     "metadata": {},
     "output_type": "execute_result"
    }
   ],
   "source": [
    "file = pd.read_csv(\"heart_data.txt\")\n",
    "\n",
    "cols = ['sbp', 'tobacco', 'ldl', 'adiposity', 'typea', 'obesity', 'alcohol', 'age']\n",
    "data = pd.DataFrame([file[col] for col in cols]).T\n",
    "famhist = [1 if val == 'Present' else 0 for val in file['famhist']]\n",
    "data['famhist'] = famhist\n",
    "data = pd.DataFrame(zscore(data, ddof=1))\n",
    "cols.append('famhist')\n",
    "data.columns = cols\n",
    "\n",
    "data"
   ]
  },
  {
   "cell_type": "markdown",
   "metadata": {},
   "source": [
    "## NN loop\n",
    "This is the actual loop running the machine learning model"
   ]
  },
  {
   "cell_type": "code",
   "execution_count": 4,
   "metadata": {},
   "outputs": [],
   "source": [
    "def ANN_model(\n",
    "        epochs: int, \n",
    "        h: int, \n",
    "        x_train: object, \n",
    "        x_test: object,\n",
    "        y_train: object,\n",
    "        y_test: object, \n",
    "        n_out: int = 1, \n",
    "        lr: float = 0.1,\n",
    "        confusion: bool = False\n",
    "    ):\n",
    "    \"\"\"\n",
    "    Function for running (training and testing) ANN model for each k-fold or subset of k-folds\n",
    "    \"\"\"\n",
    "    \n",
    "    train_loss, test_loss = np.zeros(shape=(epochs)), np.zeros(shape=(epochs))\n",
    "    try:\n",
    "        x_train.size(dim=1)\n",
    "    except:\n",
    "        print(type(x_train))\n",
    "    # Defining the model for each fold\n",
    "    model = nn.Sequential(nn.Linear(x_train.size(dim=1), h),\n",
    "                          nn.Linear(h, n_out),\n",
    "                          nn.Tanh())\n",
    "    loss_function = nn.MSELoss()\n",
    "    optimizer = torch.optim.SGD(model.parameters(), lr=lr)\n",
    "\n",
    "    # Running model\n",
    "    for i in range(epochs):\n",
    "        pred_y = model(x_train) # Get prediction for training data\n",
    "        loss = loss_function(pred_y.flatten(), y_train) # Get loss, based on prediction\n",
    "        train_loss[i] = loss\n",
    "\n",
    "        pred_y_test = model(x_test) # Get prediction for test data\n",
    "        loss_test = loss_function(pred_y_test.flatten(), y_test) # Get loss based on prediction\n",
    "        test_loss[i] = loss_test\n",
    "        \n",
    "        model.zero_grad()\n",
    "        loss.backward()\n",
    "\n",
    "        optimizer.step()\n",
    "    if confusion:\n",
    "        pred_y_bin = torch.round(pred_y_test)\n",
    "        conf_mtx = confusion_matrix(y_test.detach().numpy(), pred_y_bin.detach().numpy())\n",
    "        return train_loss, test_loss, conf_mtx\n",
    "    \n",
    "    return train_loss, test_loss\n"
   ]
  },
  {
   "cell_type": "markdown",
   "metadata": {},
   "source": [
    "## Logistic regression"
   ]
  },
  {
   "cell_type": "code",
   "execution_count": 2,
   "metadata": {},
   "outputs": [],
   "source": [
    "def log_reg(\n",
    "    x_train: object, \n",
    "    x_test: object, \n",
    "    y_train: object, \n",
    "    y_test: object,\n",
    "    C: float):\n",
    "\n",
    "    logreg = LogisticRegression(solver='liblinear', C = C) #Defining solver\n",
    "    logreg.fit(x_train,y_train) #Modelfitting\n",
    "\n",
    "    # pred_y_log = logreg.predict(x_test) \n",
    "\n",
    "    pred_y_log_train = logreg.predict(x_train) # Get prediction for training data\n",
    "    loss_train = mean_squared_error(pred_y_log_train.flatten(), y_train) # Get loss, based on prediction\n",
    "\n",
    "    pred_y_log_test = logreg.predict(x_test) # Get prediction for test data\n",
    "    loss_test = mean_squared_error(pred_y_log_test.flatten(), y_test) # Get loss based on prediction\n",
    "\n",
    "    return loss_train, loss_test"
   ]
  },
  {
   "cell_type": "code",
   "execution_count": 67,
   "metadata": {},
   "outputs": [],
   "source": [
    "def kfold_iterations(x_data: object, y_data: object, epochs: int, hidden_neurons: list, C: list, k: int = 10, Classifier: bool = False):\n",
    "    \n",
    "    k_inner = len(hidden_neurons) # Make as many k-folds as there are hidden neurons\n",
    "    \n",
    "    best_model_NN = np.zeros(shape=k) # The number of hidden neurons for the best models will be stored here\n",
    "    best_model_LogClass = np.zeros(shape=k) # The number of lambda complexity\n",
    "    \n",
    "    E_i_NN, final_train_error_NN = np.zeros(shape=k), np.zeros(shape=k) # Error for best model in each k-fold will be stored here\n",
    "    E_i_LogClass, final_train_error_LogClass = np.zeros(shape=k), np.zeros(shape=k) # Error for best model in each k-fold will be stored here\n",
    "    validation_error_NN = np.zeros(shape=(k_inner, k_inner)) # Error for each inner layer will be stored here\n",
    "    validation_error_LogClass = np.zeros(shape=(k_inner, len(C))) # Error for each inner layer will be stored here\n",
    "    \n",
    "    splits_outer = KFold(n_splits = k, shuffle=True, random_state=8) # Defining outer splits\n",
    "    \n",
    "    for i, (train_idx_outer, test_idx_outer) in enumerate(splits_outer.split(x_data)): # Outer k-fold layer\n",
    "        \n",
    "        # Getting \"new\" data set for inner k-folds\n",
    "        x_train_outer, x_test_outer = map(torch.tensor, ((x_data.iloc[train_idx_outer].values), (x_data.iloc[test_idx_outer].values)))\n",
    "        y_train_outer, y_test_outer = map(torch.tensor, ((y_data.iloc[train_idx_outer].values), (y_data.iloc[test_idx_outer].values)))\n",
    "        x_train_outer, x_test_outer, y_train_outer, y_test_outer = x_train_outer.float(), x_test_outer.float(), y_train_outer.float(), y_test_outer.float()\n",
    "        \n",
    "        \n",
    "        splits_inner = KFold(n_splits = k_inner, shuffle=True, random_state=42) # Defining inner splits\n",
    "        for j, (train_idx_inner, test_idx_inner) in enumerate(splits_inner.split(x_train_outer)): # Inner k-fold layer\n",
    "            \n",
    "            for jj, h in enumerate(hidden_neurons):\n",
    "                # Training models on inner k-folds\n",
    "                # Getting the k-folded data\n",
    "                x_train, x_test = map(torch.tensor, ((x_data.iloc[train_idx_inner].values), (x_data.iloc[test_idx_inner].values)))\n",
    "                y_train, y_test = map(torch.tensor, ((y_data.iloc[train_idx_inner].values), (y_data.iloc[test_idx_inner].values)))\n",
    "                x_train, x_test, y_train, y_test = x_train.float(), x_test.float(), y_train.float(), y_test.float()\n",
    "\n",
    "                _, test_loss_NN = ANN_model(epochs, \n",
    "                                            h,\n",
    "                                            x_train, \n",
    "                                            x_test,\n",
    "                                            y_train,\n",
    "                                            y_test\n",
    "                                            )\n",
    "            \n",
    "                # We're only interested in the last test error, \n",
    "                # as this defines the total loss for the given model\n",
    "                validation_error_NN[j, jj] = test_loss_NN[-1] \n",
    "            \n",
    "                '''\n",
    "                Put a function here that runs the linear regression or logistic regression\n",
    "                for inner k-folds and find the best lambda value for each outer k-fold\n",
    "                '''\n",
    "            if Classifier:\n",
    "                #Logistic Classification\n",
    "                for jj, lam in enumerate(C):\n",
    "                    x_train, x_test = map(torch.tensor, ((x_data.iloc[train_idx_inner].values), (x_data.iloc[test_idx_inner].values)))\n",
    "                    y_train, y_test = map(torch.tensor, ((y_data.iloc[train_idx_inner].values), (y_data.iloc[test_idx_inner].values)))\n",
    "                    x_train, x_test, y_train, y_test = x_train.float(), x_test.float(), y_train.float(), y_test.float()\n",
    "\n",
    "                    _, log_test_loss = log_reg(x_train, x_test, y_train, y_test,lam)\n",
    "                    validation_error_LogClass[j, jj] = log_test_loss\n",
    "\n",
    "\n",
    "        \n",
    "        length_ratio = len(x_train_outer) / len(x_data)\n",
    "        generalization_error_NN = [np.sum(length_ratio * np.array(validation_error_s)) for validation_error_s in validation_error_NN]\n",
    "        generalization_error_LogClass = [np.sum(length_ratio * np.array(validation_error_s)) for validation_error_s in validation_error_LogClass]\n",
    "\n",
    "\n",
    "        # Run model again for outer layer with best h-value from inner layers\n",
    "        h_best_NN = hidden_neurons[np.argmin(generalization_error_NN)]\n",
    "        outputs_NN = ANN_model(epochs, \n",
    "                            h_best_NN,\n",
    "                            x_train, \n",
    "                            x_test,\n",
    "                            y_train,\n",
    "                            y_test,\n",
    "                            confusion = Classifier\n",
    "                            )\n",
    "        train_loss_NN, test_loss_NN = outputs_NN[0], outputs_NN[1]\n",
    "\n",
    "        '''\n",
    "        Again put the linear or logistic regression model here \n",
    "        but this time evaluate on the outer k-fold\n",
    "        '''\n",
    "        if Classifier:\n",
    "            #Logistic Classification\n",
    "            C_best_LogClass = C[np.argmin(generalization_error_LogClass)]\n",
    "            log_train_loss, log_test_loss = log_reg(x_train, x_test, y_train, y_test, C_best_LogClass)\n",
    "            \n",
    "            best_model_LogClass[i] = C_best_LogClass\n",
    "            E_i_LogClass[i] = log_test_loss\n",
    "            final_train_error_LogClass[i] = log_train_loss\n",
    "\n",
    "        best_model_NN[i] = h_best_NN\n",
    "        E_i_NN[i] = test_loss_NN[-1] # Appending last value for test loss in outer layer, this value will go in the final table\n",
    "        final_train_error_NN[i] = train_loss_NN[-1]\n",
    "    \n",
    "    if Classifier:\n",
    "        return final_train_error_NN, E_i_NN, best_model_NN, outputs_NN[2], final_train_error_LogClass, E_i_LogClass, best_model_LogClass\n",
    "    return final_train_error_NN, E_i_NN, best_model_NN"
   ]
  },
  {
   "cell_type": "code",
   "execution_count": 68,
   "metadata": {},
   "outputs": [
    {
     "name": "stdout",
     "output_type": "stream",
     "text": [
      "KFold(n_splits=10, random_state=42, shuffle=True)\n"
     ]
    },
    {
     "ename": "KeyboardInterrupt",
     "evalue": "",
     "output_type": "error",
     "traceback": [
      "\u001b[1;31m---------------------------------------------------------------------------\u001b[0m",
      "\u001b[1;31mKeyboardInterrupt\u001b[0m                         Traceback (most recent call last)",
      "\u001b[1;32m~\\AppData\\Local\\Temp/ipykernel_21568/538132683.py\u001b[0m in \u001b[0;36m<module>\u001b[1;34m\u001b[0m\n\u001b[0;32m      4\u001b[0m \u001b[0mhidden_neurons\u001b[0m \u001b[1;33m=\u001b[0m \u001b[0mnp\u001b[0m\u001b[1;33m.\u001b[0m\u001b[0marange\u001b[0m\u001b[1;33m(\u001b[0m\u001b[1;36m0\u001b[0m\u001b[1;33m,\u001b[0m \u001b[1;36m50\u001b[0m\u001b[1;33m,\u001b[0m \u001b[1;36m5\u001b[0m\u001b[1;33m)\u001b[0m \u001b[1;33m+\u001b[0m \u001b[1;36m1\u001b[0m\u001b[1;33m\u001b[0m\u001b[1;33m\u001b[0m\u001b[0m\n\u001b[0;32m      5\u001b[0m \u001b[0mC\u001b[0m \u001b[1;33m=\u001b[0m \u001b[0mnp\u001b[0m\u001b[1;33m.\u001b[0m\u001b[0marange\u001b[0m\u001b[1;33m(\u001b[0m\u001b[1;36m0\u001b[0m\u001b[1;33m,\u001b[0m \u001b[1;36m1000\u001b[0m\u001b[1;33m,\u001b[0m \u001b[1;36m50\u001b[0m\u001b[1;33m)\u001b[0m \u001b[1;33m+\u001b[0m \u001b[1;36m1\u001b[0m\u001b[1;33m\u001b[0m\u001b[1;33m\u001b[0m\u001b[0m\n\u001b[1;32m----> 6\u001b[1;33m \u001b[0mtrain_errors\u001b[0m\u001b[1;33m,\u001b[0m \u001b[0mtest_errors\u001b[0m\u001b[1;33m,\u001b[0m \u001b[0mbest_model\u001b[0m \u001b[1;33m=\u001b[0m \u001b[0mkfold_iterations\u001b[0m\u001b[1;33m(\u001b[0m\u001b[0mdata_reg\u001b[0m\u001b[1;33m,\u001b[0m \u001b[0mdata\u001b[0m\u001b[1;33m[\u001b[0m\u001b[1;34m'tobacco'\u001b[0m\u001b[1;33m]\u001b[0m\u001b[1;33m,\u001b[0m \u001b[0mepochs\u001b[0m\u001b[1;33m=\u001b[0m\u001b[1;36m200\u001b[0m\u001b[1;33m,\u001b[0m \u001b[0mhidden_neurons\u001b[0m\u001b[1;33m=\u001b[0m\u001b[0mhidden_neurons\u001b[0m\u001b[1;33m,\u001b[0m \u001b[0mC\u001b[0m\u001b[1;33m=\u001b[0m\u001b[0mC\u001b[0m\u001b[1;33m,\u001b[0m \u001b[0mk\u001b[0m\u001b[1;33m=\u001b[0m \u001b[1;36m5\u001b[0m\u001b[1;33m)\u001b[0m\u001b[1;33m\u001b[0m\u001b[1;33m\u001b[0m\u001b[0m\n\u001b[0m",
      "\u001b[1;32m~\\AppData\\Local\\Temp/ipykernel_21568/502592126.py\u001b[0m in \u001b[0;36mkfold_iterations\u001b[1;34m(x_data, y_data, epochs, hidden_neurons, C, k, Classifier)\u001b[0m\n\u001b[0;32m     32\u001b[0m                 \u001b[0mx_train\u001b[0m\u001b[1;33m,\u001b[0m \u001b[0mx_test\u001b[0m\u001b[1;33m,\u001b[0m \u001b[0my_train\u001b[0m\u001b[1;33m,\u001b[0m \u001b[0my_test\u001b[0m \u001b[1;33m=\u001b[0m \u001b[0mx_train\u001b[0m\u001b[1;33m.\u001b[0m\u001b[0mfloat\u001b[0m\u001b[1;33m(\u001b[0m\u001b[1;33m)\u001b[0m\u001b[1;33m,\u001b[0m \u001b[0mx_test\u001b[0m\u001b[1;33m.\u001b[0m\u001b[0mfloat\u001b[0m\u001b[1;33m(\u001b[0m\u001b[1;33m)\u001b[0m\u001b[1;33m,\u001b[0m \u001b[0my_train\u001b[0m\u001b[1;33m.\u001b[0m\u001b[0mfloat\u001b[0m\u001b[1;33m(\u001b[0m\u001b[1;33m)\u001b[0m\u001b[1;33m,\u001b[0m \u001b[0my_test\u001b[0m\u001b[1;33m.\u001b[0m\u001b[0mfloat\u001b[0m\u001b[1;33m(\u001b[0m\u001b[1;33m)\u001b[0m\u001b[1;33m\u001b[0m\u001b[1;33m\u001b[0m\u001b[0m\n\u001b[0;32m     33\u001b[0m \u001b[1;33m\u001b[0m\u001b[0m\n\u001b[1;32m---> 34\u001b[1;33m                 _, test_loss_NN = ANN_model(epochs, \n\u001b[0m\u001b[0;32m     35\u001b[0m                                             \u001b[0mh\u001b[0m\u001b[1;33m,\u001b[0m\u001b[1;33m\u001b[0m\u001b[1;33m\u001b[0m\u001b[0m\n\u001b[0;32m     36\u001b[0m                                             \u001b[0mx_train\u001b[0m\u001b[1;33m,\u001b[0m\u001b[1;33m\u001b[0m\u001b[1;33m\u001b[0m\u001b[0m\n",
      "\u001b[1;32m~\\AppData\\Local\\Temp/ipykernel_21568/2026504650.py\u001b[0m in \u001b[0;36mANN_model\u001b[1;34m(epochs, h, x_train, x_test, y_train, y_test, n_out, lr, confusion)\u001b[0m\n\u001b[0;32m     37\u001b[0m \u001b[1;33m\u001b[0m\u001b[0m\n\u001b[0;32m     38\u001b[0m         \u001b[0mmodel\u001b[0m\u001b[1;33m.\u001b[0m\u001b[0mzero_grad\u001b[0m\u001b[1;33m(\u001b[0m\u001b[1;33m)\u001b[0m\u001b[1;33m\u001b[0m\u001b[1;33m\u001b[0m\u001b[0m\n\u001b[1;32m---> 39\u001b[1;33m         \u001b[0mloss\u001b[0m\u001b[1;33m.\u001b[0m\u001b[0mbackward\u001b[0m\u001b[1;33m(\u001b[0m\u001b[1;33m)\u001b[0m\u001b[1;33m\u001b[0m\u001b[1;33m\u001b[0m\u001b[0m\n\u001b[0m\u001b[0;32m     40\u001b[0m \u001b[1;33m\u001b[0m\u001b[0m\n\u001b[0;32m     41\u001b[0m         \u001b[0moptimizer\u001b[0m\u001b[1;33m.\u001b[0m\u001b[0mstep\u001b[0m\u001b[1;33m(\u001b[0m\u001b[1;33m)\u001b[0m\u001b[1;33m\u001b[0m\u001b[1;33m\u001b[0m\u001b[0m\n",
      "\u001b[1;32mc:\\Users\\eskeh\\AppData\\Local\\Programs\\Python\\Python39\\lib\\site-packages\\torch\\tensor.py\u001b[0m in \u001b[0;36mbackward\u001b[1;34m(self, gradient, retain_graph, create_graph, inputs)\u001b[0m\n\u001b[0;32m    243\u001b[0m                 \u001b[0mcreate_graph\u001b[0m\u001b[1;33m=\u001b[0m\u001b[0mcreate_graph\u001b[0m\u001b[1;33m,\u001b[0m\u001b[1;33m\u001b[0m\u001b[1;33m\u001b[0m\u001b[0m\n\u001b[0;32m    244\u001b[0m                 inputs=inputs)\n\u001b[1;32m--> 245\u001b[1;33m         \u001b[0mtorch\u001b[0m\u001b[1;33m.\u001b[0m\u001b[0mautograd\u001b[0m\u001b[1;33m.\u001b[0m\u001b[0mbackward\u001b[0m\u001b[1;33m(\u001b[0m\u001b[0mself\u001b[0m\u001b[1;33m,\u001b[0m \u001b[0mgradient\u001b[0m\u001b[1;33m,\u001b[0m \u001b[0mretain_graph\u001b[0m\u001b[1;33m,\u001b[0m \u001b[0mcreate_graph\u001b[0m\u001b[1;33m,\u001b[0m \u001b[0minputs\u001b[0m\u001b[1;33m=\u001b[0m\u001b[0minputs\u001b[0m\u001b[1;33m)\u001b[0m\u001b[1;33m\u001b[0m\u001b[1;33m\u001b[0m\u001b[0m\n\u001b[0m\u001b[0;32m    246\u001b[0m \u001b[1;33m\u001b[0m\u001b[0m\n\u001b[0;32m    247\u001b[0m     \u001b[1;32mdef\u001b[0m \u001b[0mregister_hook\u001b[0m\u001b[1;33m(\u001b[0m\u001b[0mself\u001b[0m\u001b[1;33m,\u001b[0m \u001b[0mhook\u001b[0m\u001b[1;33m)\u001b[0m\u001b[1;33m:\u001b[0m\u001b[1;33m\u001b[0m\u001b[1;33m\u001b[0m\u001b[0m\n",
      "\u001b[1;32mc:\\Users\\eskeh\\AppData\\Local\\Programs\\Python\\Python39\\lib\\site-packages\\torch\\autograd\\__init__.py\u001b[0m in \u001b[0;36mbackward\u001b[1;34m(tensors, grad_tensors, retain_graph, create_graph, grad_variables, inputs)\u001b[0m\n\u001b[0;32m    143\u001b[0m         \u001b[0mretain_graph\u001b[0m \u001b[1;33m=\u001b[0m \u001b[0mcreate_graph\u001b[0m\u001b[1;33m\u001b[0m\u001b[1;33m\u001b[0m\u001b[0m\n\u001b[0;32m    144\u001b[0m \u001b[1;33m\u001b[0m\u001b[0m\n\u001b[1;32m--> 145\u001b[1;33m     Variable._execution_engine.run_backward(\n\u001b[0m\u001b[0;32m    146\u001b[0m         \u001b[0mtensors\u001b[0m\u001b[1;33m,\u001b[0m \u001b[0mgrad_tensors_\u001b[0m\u001b[1;33m,\u001b[0m \u001b[0mretain_graph\u001b[0m\u001b[1;33m,\u001b[0m \u001b[0mcreate_graph\u001b[0m\u001b[1;33m,\u001b[0m \u001b[0minputs\u001b[0m\u001b[1;33m,\u001b[0m\u001b[1;33m\u001b[0m\u001b[1;33m\u001b[0m\u001b[0m\n\u001b[0;32m    147\u001b[0m         allow_unreachable=True, accumulate_grad=True)  # allow_unreachable flag\n",
      "\u001b[1;31mKeyboardInterrupt\u001b[0m: "
     ]
    }
   ],
   "source": [
    "# For linear regression\n",
    "# Run the whole chebang!! (should take about 10 min)\n",
    "data_reg = data.drop(\"tobacco\", axis =1)\n",
    "hidden_neurons = np.arange(0, 50, 5) + 1\n",
    "C = np.arange(0, 1000, 50) + 1\n",
    "train_errors, test_errors, best_model = kfold_iterations(data_reg, data['tobacco'], epochs=200, hidden_neurons=hidden_neurons, C=C, k= 5)"
   ]
  },
  {
   "cell_type": "code",
   "execution_count": 50,
   "metadata": {},
   "outputs": [
    {
     "ename": "TypeError",
     "evalue": "object of type 'int' has no len()",
     "output_type": "error",
     "traceback": [
      "\u001b[1;31m---------------------------------------------------------------------------\u001b[0m",
      "\u001b[1;31mTypeError\u001b[0m                                 Traceback (most recent call last)",
      "\u001b[1;32m~\\AppData\\Local\\Temp/ipykernel_21568/969467037.py\u001b[0m in \u001b[0;36m<module>\u001b[1;34m\u001b[0m\n\u001b[0;32m      3\u001b[0m \u001b[0mhidden_neurons\u001b[0m \u001b[1;33m=\u001b[0m \u001b[0mnp\u001b[0m\u001b[1;33m.\u001b[0m\u001b[0marange\u001b[0m\u001b[1;33m(\u001b[0m\u001b[1;36m0\u001b[0m\u001b[1;33m,\u001b[0m \u001b[1;36m50\u001b[0m\u001b[1;33m,\u001b[0m \u001b[1;36m5\u001b[0m\u001b[1;33m)\u001b[0m \u001b[1;33m+\u001b[0m \u001b[1;36m1\u001b[0m\u001b[1;33m\u001b[0m\u001b[1;33m\u001b[0m\u001b[0m\n\u001b[0;32m      4\u001b[0m \u001b[0mC\u001b[0m \u001b[1;33m=\u001b[0m \u001b[1;36m3001\u001b[0m\u001b[1;33m\u001b[0m\u001b[1;33m\u001b[0m\u001b[0m\n\u001b[1;32m----> 5\u001b[1;33m \u001b[0mtrain_errors\u001b[0m\u001b[1;33m,\u001b[0m \u001b[0mtest_errors\u001b[0m\u001b[1;33m,\u001b[0m \u001b[0mbest_model\u001b[0m\u001b[1;33m,\u001b[0m \u001b[0mconf\u001b[0m\u001b[1;33m,\u001b[0m \u001b[0mfinal_train_error_LogClass\u001b[0m\u001b[1;33m,\u001b[0m \u001b[0mE_i_LogClass\u001b[0m\u001b[1;33m,\u001b[0m \u001b[0mbest_model_LogClass\u001b[0m \u001b[1;33m=\u001b[0m \u001b[0mkfold_iterations\u001b[0m\u001b[1;33m(\u001b[0m\u001b[0mdata\u001b[0m\u001b[1;33m,\u001b[0m \u001b[0mfile\u001b[0m\u001b[1;33m[\u001b[0m\u001b[1;34m'chd'\u001b[0m\u001b[1;33m]\u001b[0m\u001b[1;33m,\u001b[0m \u001b[0mepochs\u001b[0m\u001b[1;33m=\u001b[0m\u001b[1;36m200\u001b[0m\u001b[1;33m,\u001b[0m \u001b[0mhidden_neurons\u001b[0m\u001b[1;33m=\u001b[0m\u001b[0mhidden_neurons\u001b[0m\u001b[1;33m,\u001b[0m \u001b[0mC\u001b[0m\u001b[1;33m=\u001b[0m\u001b[0mC\u001b[0m\u001b[1;33m,\u001b[0m \u001b[0mk\u001b[0m\u001b[1;33m=\u001b[0m \u001b[1;36m10\u001b[0m\u001b[1;33m,\u001b[0m \u001b[0mClassifier\u001b[0m\u001b[1;33m=\u001b[0m\u001b[1;32mTrue\u001b[0m\u001b[1;33m)\u001b[0m\u001b[1;33m\u001b[0m\u001b[1;33m\u001b[0m\u001b[0m\n\u001b[0m",
      "\u001b[1;32m~\\AppData\\Local\\Temp/ipykernel_21568/3846999847.py\u001b[0m in \u001b[0;36mkfold_iterations\u001b[1;34m(x_data, y_data, epochs, hidden_neurons, C, k, Classifier)\u001b[0m\n\u001b[0;32m      9\u001b[0m     \u001b[0mE_i_LogClass\u001b[0m\u001b[1;33m,\u001b[0m \u001b[0mfinal_train_error_LogClass\u001b[0m \u001b[1;33m=\u001b[0m \u001b[0mnp\u001b[0m\u001b[1;33m.\u001b[0m\u001b[0mzeros\u001b[0m\u001b[1;33m(\u001b[0m\u001b[0mshape\u001b[0m\u001b[1;33m=\u001b[0m\u001b[0mk\u001b[0m\u001b[1;33m)\u001b[0m\u001b[1;33m,\u001b[0m \u001b[0mnp\u001b[0m\u001b[1;33m.\u001b[0m\u001b[0mzeros\u001b[0m\u001b[1;33m(\u001b[0m\u001b[0mshape\u001b[0m\u001b[1;33m=\u001b[0m\u001b[0mk\u001b[0m\u001b[1;33m)\u001b[0m \u001b[1;31m# Error for best model in each k-fold will be stored here\u001b[0m\u001b[1;33m\u001b[0m\u001b[1;33m\u001b[0m\u001b[0m\n\u001b[0;32m     10\u001b[0m     \u001b[0mvalidation_error_NN\u001b[0m \u001b[1;33m=\u001b[0m \u001b[0mnp\u001b[0m\u001b[1;33m.\u001b[0m\u001b[0mzeros\u001b[0m\u001b[1;33m(\u001b[0m\u001b[0mshape\u001b[0m\u001b[1;33m=\u001b[0m\u001b[1;33m(\u001b[0m\u001b[0mk_inner\u001b[0m\u001b[1;33m,\u001b[0m \u001b[0mk_inner\u001b[0m\u001b[1;33m)\u001b[0m\u001b[1;33m)\u001b[0m \u001b[1;31m# Error for each inner layer will be stored here\u001b[0m\u001b[1;33m\u001b[0m\u001b[1;33m\u001b[0m\u001b[0m\n\u001b[1;32m---> 11\u001b[1;33m     \u001b[0mvalidation_error_LogClass\u001b[0m \u001b[1;33m=\u001b[0m \u001b[0mnp\u001b[0m\u001b[1;33m.\u001b[0m\u001b[0mzeros\u001b[0m\u001b[1;33m(\u001b[0m\u001b[0mshape\u001b[0m\u001b[1;33m=\u001b[0m\u001b[1;33m(\u001b[0m\u001b[0mlen\u001b[0m\u001b[1;33m(\u001b[0m\u001b[0mC\u001b[0m\u001b[1;33m)\u001b[0m\u001b[1;33m,\u001b[0m \u001b[0mlen\u001b[0m\u001b[1;33m(\u001b[0m\u001b[0mC\u001b[0m\u001b[1;33m)\u001b[0m\u001b[1;33m)\u001b[0m\u001b[1;33m)\u001b[0m \u001b[1;31m# Error for each inner layer will be stored here\u001b[0m\u001b[1;33m\u001b[0m\u001b[1;33m\u001b[0m\u001b[0m\n\u001b[0m\u001b[0;32m     12\u001b[0m \u001b[1;33m\u001b[0m\u001b[0m\n\u001b[0;32m     13\u001b[0m     \u001b[0msplits_outer\u001b[0m \u001b[1;33m=\u001b[0m \u001b[0mKFold\u001b[0m\u001b[1;33m(\u001b[0m\u001b[0mn_splits\u001b[0m \u001b[1;33m=\u001b[0m \u001b[0mk\u001b[0m\u001b[1;33m,\u001b[0m \u001b[0mshuffle\u001b[0m\u001b[1;33m=\u001b[0m\u001b[1;32mTrue\u001b[0m\u001b[1;33m,\u001b[0m \u001b[0mrandom_state\u001b[0m\u001b[1;33m=\u001b[0m\u001b[1;36m8\u001b[0m\u001b[1;33m)\u001b[0m \u001b[1;31m# Defining outer splits\u001b[0m\u001b[1;33m\u001b[0m\u001b[1;33m\u001b[0m\u001b[0m\n",
      "\u001b[1;31mTypeError\u001b[0m: object of type 'int' has no len()"
     ]
    }
   ],
   "source": [
    "# For classification\n",
    "# Run the whole chebang!! (should take about 10 min)\n",
    "hidden_neurons = np.arange(0, 50, 5) + 1\n",
    "C = 3001\n",
    "train_errors, test_errors, best_model, conf, final_train_error_LogClass, E_i_LogClass, best_model_LogClass = kfold_iterations(data, file['chd'], epochs=200, hidden_neurons=hidden_neurons, C=C, k= 10, Classifier=True)"
   ]
  },
  {
   "cell_type": "code",
   "execution_count": 46,
   "metadata": {},
   "outputs": [
    {
     "data": {
      "image/png": "[encoded data removed]",
      "text/plain": [
       "<Figure size 640x480 with 1 Axes>"
      ]
     },
     "metadata": {},
     "output_type": "display_data"
    },
    {
     "data": {
      "image/png": "[encoded data removed]",
      "text/plain": [
       "<Figure size 640x480 with 1 Axes>"
      ]
     },
     "metadata": {},
     "output_type": "display_data"
    }
   ],
   "source": [
    "indices = np.arange(1, 11, 1)\n",
    "plt.plot(indices, test_errors, 'g', label=\"test\")\n",
    "plt.plot(indices, train_errors, 'r', label=\"train\")\n",
    "plt.plot(indices, E_i_LogClass, 'b', label=\"test_class\")\n",
    "plt.plot(indices, final_train_error_LogClass, 'yellow', label=\"train_class\")\n",
    "plt.legend()\n",
    "plt.xlabel(\"Index of k-fold\")\n",
    "plt.ylabel(\"Error in outer k-folds\")\n",
    "plt.show()\n",
    "plt.plot(indices, best_model)\n",
    "plt.plot(indices, best_model_LogClass)\n",
    "plt.xlabel(\"Index of k-fold\")\n",
    "plt.ylabel(\"Best number of hidden neurons\")\n",
    "plt.show()"
   ]
  },
  {
   "cell_type": "code",
   "execution_count": 48,
   "metadata": {},
   "outputs": [
    {
     "data": {
      "text/plain": [
       "array([1.0000e+00, 1.0000e+00, 3.0001e+04, 3.0001e+04, 3.0001e+04,\n",
       "       3.0001e+04, 3.0001e+04, 3.0001e+04, 3.0001e+04, 3.0001e+04])"
      ]
     },
     "execution_count": 48,
     "metadata": {},
     "output_type": "execute_result"
    }
   ],
   "source": [
    "best_model_LogClass"
   ]
  },
  {
   "cell_type": "code",
   "execution_count": 47,
   "metadata": {},
   "outputs": [
    {
     "data": {
      "text/plain": [
       "<sklearn.metrics._plot.confusion_matrix.ConfusionMatrixDisplay at 0x2b612148250>"
      ]
     },
     "execution_count": 47,
     "metadata": {},
     "output_type": "execute_result"
    },
    {
     "data": {
      "image/png": "[encoded data removed]",
      "text/plain": [
       "<Figure size 640x480 with 2 Axes>"
      ]
     },
     "metadata": {},
     "output_type": "display_data"
    }
   ],
   "source": [
    "ConfusionMatrixDisplay(conf).plot()"
   ]
  },
  {
   "cell_type": "code",
   "execution_count": null,
   "metadata": {},
   "outputs": [
    {
     "data": {
      "text/html": [
       "<div>\n",
       "<style scoped>\n",
       "    .dataframe tbody tr th:only-of-type {\n",
       "        vertical-align: middle;\n",
       "    }\n",
       "\n",
       "    .dataframe tbody tr th {\n",
       "        vertical-align: top;\n",
       "    }\n",
       "\n",
       "    .dataframe thead th {\n",
       "        text-align: right;\n",
       "    }\n",
       "</style>\n",
       "<table border=\"1\" class=\"dataframe\">\n",
       "  <thead>\n",
       "    <tr style=\"text-align: right;\">\n",
       "      <th></th>\n",
       "      <th>h*_i</th>\n",
       "      <th>E_i</th>\n",
       "    </tr>\n",
       "  </thead>\n",
       "  <tbody>\n",
       "    <tr>\n",
       "      <th>0</th>\n",
       "      <td>28</td>\n",
       "      <td>0.650</td>\n",
       "    </tr>\n",
       "    <tr>\n",
       "      <th>1</th>\n",
       "      <td>30</td>\n",
       "      <td>1.449</td>\n",
       "    </tr>\n",
       "    <tr>\n",
       "      <th>2</th>\n",
       "      <td>26</td>\n",
       "      <td>0.971</td>\n",
       "    </tr>\n",
       "    <tr>\n",
       "      <th>3</th>\n",
       "      <td>24</td>\n",
       "      <td>1.422</td>\n",
       "    </tr>\n",
       "    <tr>\n",
       "      <th>4</th>\n",
       "      <td>28</td>\n",
       "      <td>0.591</td>\n",
       "    </tr>\n",
       "    <tr>\n",
       "      <th>5</th>\n",
       "      <td>27</td>\n",
       "      <td>0.559</td>\n",
       "    </tr>\n",
       "    <tr>\n",
       "      <th>6</th>\n",
       "      <td>20</td>\n",
       "      <td>0.852</td>\n",
       "    </tr>\n",
       "    <tr>\n",
       "      <th>7</th>\n",
       "      <td>29</td>\n",
       "      <td>0.672</td>\n",
       "    </tr>\n",
       "    <tr>\n",
       "      <th>8</th>\n",
       "      <td>24</td>\n",
       "      <td>1.192</td>\n",
       "    </tr>\n",
       "    <tr>\n",
       "      <th>9</th>\n",
       "      <td>32</td>\n",
       "      <td>0.981</td>\n",
       "    </tr>\n",
       "  </tbody>\n",
       "</table>\n",
       "</div>"
      ],
      "text/plain": [
       "   h*_i    E_i\n",
       "0    28  0.650\n",
       "1    30  1.449\n",
       "2    26  0.971\n",
       "3    24  1.422\n",
       "4    28  0.591\n",
       "5    27  0.559\n",
       "6    20  0.852\n",
       "7    29  0.672\n",
       "8    24  1.192\n",
       "9    32  0.981"
      ]
     },
     "execution_count": 51,
     "metadata": {},
     "output_type": "execute_result"
    }
   ],
   "source": [
    "best_model_mean = [round(np.mean(x),) for x in np.split(best_model, 10)]\n",
    "test_error_mean = [round(np.mean(x),3) for x in np.split(test_errors, 10)]\n",
    "pd.DataFrame({\"h*_i\": best_model_mean, \"E_i\": test_error_mean})"
   ]
  },
  {
   "cell_type": "code",
   "execution_count": null,
   "metadata": {},
   "outputs": [
    {
     "ename": "NameError",
     "evalue": "name 'model' is not defined",
     "output_type": "error",
     "traceback": [
      "\u001b[1;31m---------------------------------------------------------------------------\u001b[0m",
      "\u001b[1;31mNameError\u001b[0m                                 Traceback (most recent call last)",
      "\u001b[1;32m~\\AppData\\Local\\Temp/ipykernel_16328/1202320886.py\u001b[0m in \u001b[0;36m<module>\u001b[1;34m\u001b[0m\n\u001b[1;32m----> 1\u001b[1;33m \u001b[0mmodel\u001b[0m\u001b[1;33m(\u001b[0m\u001b[0mdata\u001b[0m\u001b[1;33m.\u001b[0m\u001b[0miloc\u001b[0m\u001b[1;33m[\u001b[0m\u001b[1;36m2\u001b[0m\u001b[1;33m]\u001b[0m\u001b[1;33m)\u001b[0m\u001b[1;33m\u001b[0m\u001b[1;33m\u001b[0m\u001b[0m\n\u001b[0m",
      "\u001b[1;31mNameError\u001b[0m: name 'model' is not defined"
     ]
    }
   ],
   "source": [
    "model(data.iloc[2])"
   ]
  }
 ],
 "metadata": {
  "kernelspec": {
   "display_name": "Python 3.9.0 64-bit",
   "language": "python",
   "name": "python3"
  },
  "language_info": {
   "codemirror_mode": {
    "name": "ipython",
    "version": 3
   },
   "file_extension": ".py",
   "mimetype": "text/x-python",
   "name": "python",
   "nbconvert_exporter": "python",
   "pygments_lexer": "ipython3",
   "version": "3.9.0"
  },
  "orig_nbformat": 4,
  "vscode": {
   "interpreter": {
    "hash": "38a1999c3c82483ceb77d8d853e137b43eb79cce81715cd6b94890874c6f2042"
   }
  }
 },
 "nbformat": 4,
 "nbformat_minor": 2
}
