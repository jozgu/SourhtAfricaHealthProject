{
 "cells": [
  {
   "cell_type": "code",
   "execution_count": 1,
   "metadata": {},
   "outputs": [],
   "source": [
    "import pandas as pd\n",
    "import torch\n",
    "import torch.nn as nn\n",
    "import matplotlib.pyplot as plt\n",
    "from scipy.stats import zscore\n",
    "from sklearn.model_selection import KFold\n",
    "import numpy as np"
   ]
  },
  {
   "cell_type": "markdown",
   "metadata": {},
   "source": [
    "## Read in data\n",
    "Seperating the attributes from the result"
   ]
  },
  {
   "cell_type": "code",
   "execution_count": 2,
   "metadata": {},
   "outputs": [
    {
     "data": {
      "text/html": [
       "<div>\n",
       "<style scoped>\n",
       "    .dataframe tbody tr th:only-of-type {\n",
       "        vertical-align: middle;\n",
       "    }\n",
       "\n",
       "    .dataframe tbody tr th {\n",
       "        vertical-align: top;\n",
       "    }\n",
       "\n",
       "    .dataframe thead th {\n",
       "        text-align: right;\n",
       "    }\n",
       "</style>\n",
       "<table border=\"1\" class=\"dataframe\">\n",
       "  <thead>\n",
       "    <tr style=\"text-align: right;\">\n",
       "      <th></th>\n",
       "      <th>sbp</th>\n",
       "      <th>tobacco</th>\n",
       "      <th>ldl</th>\n",
       "      <th>adiposity</th>\n",
       "      <th>typea</th>\n",
       "      <th>obesity</th>\n",
       "      <th>alcohol</th>\n",
       "      <th>age</th>\n",
       "      <th>famhist</th>\n",
       "    </tr>\n",
       "  </thead>\n",
       "  <tbody>\n",
       "    <tr>\n",
       "      <th>0</th>\n",
       "      <td>1.057417</td>\n",
       "      <td>1.821099</td>\n",
       "      <td>0.477894</td>\n",
       "      <td>-0.295183</td>\n",
       "      <td>-0.418017</td>\n",
       "      <td>-0.176594</td>\n",
       "      <td>3.274189</td>\n",
       "      <td>0.628654</td>\n",
       "      <td>1.184570</td>\n",
       "    </tr>\n",
       "    <tr>\n",
       "      <th>1</th>\n",
       "      <td>0.276789</td>\n",
       "      <td>-0.789382</td>\n",
       "      <td>-0.159507</td>\n",
       "      <td>0.411694</td>\n",
       "      <td>0.193134</td>\n",
       "      <td>0.670646</td>\n",
       "      <td>-0.612081</td>\n",
       "      <td>1.381617</td>\n",
       "      <td>-0.842361</td>\n",
       "    </tr>\n",
       "    <tr>\n",
       "      <th>2</th>\n",
       "      <td>-0.991731</td>\n",
       "      <td>-0.774141</td>\n",
       "      <td>-0.608585</td>\n",
       "      <td>0.883374</td>\n",
       "      <td>-0.112441</td>\n",
       "      <td>0.734723</td>\n",
       "      <td>-0.540597</td>\n",
       "      <td>0.217947</td>\n",
       "      <td>1.184570</td>\n",
       "    </tr>\n",
       "    <tr>\n",
       "      <th>3</th>\n",
       "      <td>1.545310</td>\n",
       "      <td>0.841352</td>\n",
       "      <td>0.806252</td>\n",
       "      <td>1.622382</td>\n",
       "      <td>-0.214300</td>\n",
       "      <td>1.411091</td>\n",
       "      <td>0.294742</td>\n",
       "      <td>1.039361</td>\n",
       "      <td>1.184570</td>\n",
       "    </tr>\n",
       "    <tr>\n",
       "      <th>4</th>\n",
       "      <td>-0.211103</td>\n",
       "      <td>2.169453</td>\n",
       "      <td>-0.598928</td>\n",
       "      <td>0.305020</td>\n",
       "      <td>0.702427</td>\n",
       "      <td>-0.012842</td>\n",
       "      <td>1.645991</td>\n",
       "      <td>0.423301</td>\n",
       "      <td>1.184570</td>\n",
       "    </tr>\n",
       "    <tr>\n",
       "      <th>...</th>\n",
       "      <td>...</td>\n",
       "      <td>...</td>\n",
       "      <td>...</td>\n",
       "      <td>...</td>\n",
       "      <td>...</td>\n",
       "      <td>...</td>\n",
       "      <td>...</td>\n",
       "      <td>...</td>\n",
       "      <td>...</td>\n",
       "    </tr>\n",
       "    <tr>\n",
       "      <th>457</th>\n",
       "      <td>3.692037</td>\n",
       "      <td>-0.704470</td>\n",
       "      <td>0.598614</td>\n",
       "      <td>0.811401</td>\n",
       "      <td>1.109862</td>\n",
       "      <td>0.570971</td>\n",
       "      <td>-0.696228</td>\n",
       "      <td>1.039361</td>\n",
       "      <td>-0.842361</td>\n",
       "    </tr>\n",
       "    <tr>\n",
       "      <th>458</th>\n",
       "      <td>2.130781</td>\n",
       "      <td>0.122871</td>\n",
       "      <td>-0.159507</td>\n",
       "      <td>0.860240</td>\n",
       "      <td>-0.112441</td>\n",
       "      <td>0.608942</td>\n",
       "      <td>0.068445</td>\n",
       "      <td>0.628654</td>\n",
       "      <td>-0.842361</td>\n",
       "    </tr>\n",
       "    <tr>\n",
       "      <th>459</th>\n",
       "      <td>-1.479624</td>\n",
       "      <td>-0.138395</td>\n",
       "      <td>-1.521228</td>\n",
       "      <td>-1.307946</td>\n",
       "      <td>-1.334744</td>\n",
       "      <td>-1.413043</td>\n",
       "      <td>0.391960</td>\n",
       "      <td>0.834008</td>\n",
       "      <td>-0.842361</td>\n",
       "    </tr>\n",
       "    <tr>\n",
       "      <th>460</th>\n",
       "      <td>-0.991731</td>\n",
       "      <td>0.384137</td>\n",
       "      <td>3.317227</td>\n",
       "      <td>0.691875</td>\n",
       "      <td>1.109862</td>\n",
       "      <td>0.309916</td>\n",
       "      <td>0.282897</td>\n",
       "      <td>-0.192760</td>\n",
       "      <td>-0.842361</td>\n",
       "    </tr>\n",
       "    <tr>\n",
       "      <th>461</th>\n",
       "      <td>-0.308682</td>\n",
       "      <td>-0.791559</td>\n",
       "      <td>0.038474</td>\n",
       "      <td>1.028605</td>\n",
       "      <td>0.906144</td>\n",
       "      <td>-2.692210</td>\n",
       "      <td>-0.696228</td>\n",
       "      <td>0.217947</td>\n",
       "      <td>1.184570</td>\n",
       "    </tr>\n",
       "  </tbody>\n",
       "</table>\n",
       "<p>462 rows × 9 columns</p>\n",
       "</div>"
      ],
      "text/plain": [
       "          sbp   tobacco       ldl  adiposity     typea   obesity   alcohol  \\\n",
       "0    1.057417  1.821099  0.477894  -0.295183 -0.418017 -0.176594  3.274189   \n",
       "1    0.276789 -0.789382 -0.159507   0.411694  0.193134  0.670646 -0.612081   \n",
       "2   -0.991731 -0.774141 -0.608585   0.883374 -0.112441  0.734723 -0.540597   \n",
       "3    1.545310  0.841352  0.806252   1.622382 -0.214300  1.411091  0.294742   \n",
       "4   -0.211103  2.169453 -0.598928   0.305020  0.702427 -0.012842  1.645991   \n",
       "..        ...       ...       ...        ...       ...       ...       ...   \n",
       "457  3.692037 -0.704470  0.598614   0.811401  1.109862  0.570971 -0.696228   \n",
       "458  2.130781  0.122871 -0.159507   0.860240 -0.112441  0.608942  0.068445   \n",
       "459 -1.479624 -0.138395 -1.521228  -1.307946 -1.334744 -1.413043  0.391960   \n",
       "460 -0.991731  0.384137  3.317227   0.691875  1.109862  0.309916  0.282897   \n",
       "461 -0.308682 -0.791559  0.038474   1.028605  0.906144 -2.692210 -0.696228   \n",
       "\n",
       "          age   famhist  \n",
       "0    0.628654  1.184570  \n",
       "1    1.381617 -0.842361  \n",
       "2    0.217947  1.184570  \n",
       "3    1.039361  1.184570  \n",
       "4    0.423301  1.184570  \n",
       "..        ...       ...  \n",
       "457  1.039361 -0.842361  \n",
       "458  0.628654 -0.842361  \n",
       "459  0.834008 -0.842361  \n",
       "460 -0.192760 -0.842361  \n",
       "461  0.217947  1.184570  \n",
       "\n",
       "[462 rows x 9 columns]"
      ]
     },
     "execution_count": 2,
     "metadata": {},
     "output_type": "execute_result"
    }
   ],
   "source": [
    "file = pd.read_csv(\"heart_data.txt\")\n",
    "\n",
    "cols = ['sbp', 'tobacco', 'ldl', 'adiposity', 'typea', 'obesity', 'alcohol', 'age']\n",
    "data = pd.DataFrame([file[col] for col in cols]).T\n",
    "famhist = [1 if val == 'Present' else 0 for val in file['famhist']]\n",
    "data['famhist'] = famhist\n",
    "data = pd.DataFrame(zscore(data, ddof=1))\n",
    "cols.append('famhist')\n",
    "data.columns = cols\n",
    "\n",
    "data"
   ]
  },
  {
   "cell_type": "markdown",
   "metadata": {},
   "source": [
    "## Define test and train data\n",
    "Getting the test and train data values based on a simple slice (k-fold could be used here)\n",
    "\n",
    "Data is mapped as torch tensors with floats"
   ]
  },
  {
   "cell_type": "code",
   "execution_count": 3,
   "metadata": {},
   "outputs": [],
   "source": [
    "train_size = 0.9\n",
    "split_idx = int(len(data) * train_size)\n",
    "x_train, x_test = map(torch.tensor, ((data.iloc[:split_idx].values), (data.iloc[split_idx:].values)))\n",
    "y_train, y_test = map(torch.tensor, ((file['chd'][:split_idx].values), (file['chd'][split_idx:].values)))\n",
    "x_train, x_test, y_train, y_test = x_train.float(), x_test.float(), y_train.float(), y_test.float()"
   ]
  },
  {
   "cell_type": "code",
   "execution_count": 4,
   "metadata": {},
   "outputs": [
    {
     "name": "stdout",
     "output_type": "stream",
     "text": [
      "ANN model, this could be changed to other values\n",
      "Sequential(\n",
      "  (0): Linear(in_features=9, out_features=1, bias=True)\n",
      "  (1): Linear(in_features=1, out_features=1, bias=True)\n",
      "  (2): Sigmoid()\n",
      ")\n"
     ]
    }
   ],
   "source": [
    "n_input, n_hidden, n_out, learning_rate = 9, 1, 1, 0.1\n",
    "\n",
    "model = nn.Sequential(nn.Linear(n_input, n_hidden),\n",
    "                      nn.Linear(n_hidden, n_out),\n",
    "                      nn.Sigmoid())\n",
    "\n",
    "print(\"ANN model, this could be changed to other values\")\n",
    "print(model)"
   ]
  },
  {
   "cell_type": "markdown",
   "metadata": {},
   "source": [
    "## NN loop\n",
    "This is the actual loop running the machine learning model"
   ]
  },
  {
   "cell_type": "code",
   "execution_count": 5,
   "metadata": {},
   "outputs": [],
   "source": [
    "# number of folds\n",
    "k = 10\n",
    "\n",
    "# number of runs for each fold\n",
    "epochs = 400\n",
    "\n",
    "# hidden units\n",
    "step = 2\n",
    "h = np.arange(start = 0, stop = k * step,step = step, dtype=int) + 1\n",
    "\n",
    "# hyperparameters for model\n",
    "n_input, n_out, learning_rate = len(data.columns), 1, 0.1\n",
    "\n",
    "# indices for k-folded data\n",
    "splits=KFold(n_splits= k)"
   ]
  },
  {
   "cell_type": "code",
   "execution_count": 12,
   "metadata": {},
   "outputs": [],
   "source": [
    "def ANN_model(k, epochs, h, n_input, n_out, lr, data, vals):\n",
    "    train_cost, test_cost = np.empty(shape=(k,epochs)), np.empty(shape=(k,epochs))\n",
    "    for i, (train_idx, test_idx) in enumerate(splits.split(data)):\n",
    "        \n",
    "        # Defining the model for each fold\n",
    "        model = nn.Sequential(nn.Linear(n_input, h[i]),\n",
    "                            nn.Linear(h[i], n_out),\n",
    "                            nn.Sigmoid())\n",
    "        loss_function = nn.MSELoss()\n",
    "        optimizer = torch.optim.SGD(model.parameters(), lr=lr)\n",
    "        \n",
    "        # Getting the k-folded data\n",
    "        x_train, x_test = map(torch.tensor, ((data.iloc[train_idx].values), (data.iloc[test_idx].values)))\n",
    "        y_train, y_test = map(torch.tensor, ((vals.iloc[train_idx].values), (vals.iloc[test_idx].values)))\n",
    "        x_train, x_test, y_train, y_test = x_train.float(), x_test.float(), y_train.float(), y_test.float()\n",
    "        \n",
    "        # Running model\n",
    "        for j in range(epochs):\n",
    "            pred_y = model(x_train)\n",
    "            loss = loss_function(pred_y.flatten(), y_train)\n",
    "            train_cost[i][j] = loss\n",
    "\n",
    "            pred_y_test = model(x_test)\n",
    "            loss_test = loss_function(pred_y_test.flatten(), y_test)\n",
    "            test_cost[i][j] = loss_test\n",
    "            \n",
    "            model.zero_grad()\n",
    "            loss.backward()\n",
    "\n",
    "            optimizer.step()\n",
    "    \n",
    "    return train_cost, test_cost\n",
    "\n",
    "train_cost, test_cost = ANN_model(k, epochs, h, n_input, n_out, learning_rate, data, file['chd'])\n",
    "        "
   ]
  },
  {
   "cell_type": "markdown",
   "metadata": {},
   "source": [
    "## Loss plots"
   ]
  },
  {
   "cell_type": "code",
   "execution_count": 13,
   "metadata": {},
   "outputs": [
    {
     "data": {
      "image/png": "[encoded data removed]",
      "text/plain": [
       "<Figure size 432x288 with 1 Axes>"
      ]
     },
     "metadata": {
      "needs_background": "light"
     },
     "output_type": "display_data"
    }
   ],
   "source": [
    "plt.plot(train_cost[-1], 'b', label=\"Train\")\n",
    "plt.plot(test_cost[-1], 'r', label=\"Test\")\n",
    "plt.ylabel('MSE')\n",
    "plt.xlabel('epoch')\n",
    "plt.legend()\n",
    "plt.title(\"MSE with learning rate %f\"%(learning_rate))\n",
    "plt.show()"
   ]
  },
  {
   "cell_type": "code",
   "execution_count": 8,
   "metadata": {},
   "outputs": [
    {
     "data": {
      "image/png": "[encoded data removed]",
      "text/plain": [
       "<Figure size 432x288 with 1 Axes>"
      ]
     },
     "metadata": {
      "needs_background": "light"
     },
     "output_type": "display_data"
    }
   ],
   "source": [
    "errs = [abs(float(model(torch.tensor(data.iloc[idx].values).float()) - file['chd'][idx])) for idx in range(len(data))]\n",
    "plt.plot(errs, '.')\n",
    "plt.ylabel(\"error\")\n",
    "plt.xlabel(\"index\")\n",
    "plt.show()"
   ]
  },
  {
   "cell_type": "code",
   "execution_count": 14,
   "metadata": {},
   "outputs": [
    {
     "data": {
      "image/png": "[encoded data removed]",
      "text/plain": [
       "<Figure size 432x288 with 1 Axes>"
      ]
     },
     "metadata": {
      "needs_background": "light"
     },
     "output_type": "display_data"
    }
   ],
   "source": [
    "plt.plot(h, [np.mean(x) for x in test_cost])\n",
    "plt.show()"
   ]
  }
 ],
 "metadata": {
  "kernelspec": {
   "display_name": "Python 3.9.0 64-bit",
   "language": "python",
   "name": "python3"
  },
  "language_info": {
   "codemirror_mode": {
    "name": "ipython",
    "version": 3
   },
   "file_extension": ".py",
   "mimetype": "text/x-python",
   "name": "python",
   "nbconvert_exporter": "python",
   "pygments_lexer": "ipython3",
   "version": "3.9.0"
  },
  "orig_nbformat": 4,
  "vscode": {
   "interpreter": {
    "hash": "38a1999c3c82483ceb77d8d853e137b43eb79cce81715cd6b94890874c6f2042"
   }
  }
 },
 "nbformat": 4,
 "nbformat_minor": 2
}
